{
 "cells": [
  {
   "cell_type": "code",
   "execution_count": 51,
   "metadata": {},
   "outputs": [
    {
     "name": "stdout",
     "output_type": "stream",
     "text": [
      "(2, 1)\n"
     ]
    }
   ],
   "source": [
    "import matplotlib.pyplot as plt\n",
    "import numpy as np\n",
    "import random\n",
    "from multiprocessing import Pool\n",
    "from itertools import product\n",
    "import math\n",
    "import scipy.io\n",
    "import scipy.interpolate\n",
    "%matplotlib inline\n",
    "\n",
    "#sETTING THE GAME\n",
    "liveplot = 40; # if >0, plots the sheet of activity during the simulation on every liveplot'th step\n",
    "\n",
    "usePeriodicNetwork=1; # if =0, then aperiodic network (no wrap around weights, and a decaying envelope function)\n",
    "#if periodic then toroidally wrap-around weights, constant envelope function) \n",
    "\n",
    "useRealTrajectory =0 # if 0 just give constant velocity else load trajectory\n",
    "constantVelocity =np.array([[0.5], [0]]) #m/s\n",
    "print(constantVelocity.shape)\n",
    "#making weight matrix is.....bleh\n",
    "useCurrentW = 1\n",
    "#if 0 you have to load trajectory \n",
    "\n",
    "#CELL PARAMETERS\n",
    "tau = 10\n",
    "#in ms the time constant for neural response\n",
    "if ~useRealTrajectory:\n",
    "    alpha = 0.10315 # input gain\n",
    "else:\n",
    "    alpha = 50 # input gain\n",
    "\n",
    "#NETWORK/WEIGHT PARAMETERS\n",
    "\n",
    "n=4\n",
    "ncells = int(n*n)\n",
    "#a = 1\n",
    "#lamb = 13\n",
    "#beta = 3/(lamb**2)\n",
    "#gamma = 1.1*beta #1.05 lit,1.02 correction, but neither work so 1.1\n",
    "spikeThres = 0.1 #threshold for plotting a cell as spiked\n",
    "\n",
    "#SIMULATION PARAMETERS\n",
    "\n",
    "dt = 0.5 #in ms is the time step for integration\n",
    "simdur = 100*(10**3) #total simulation time, ms\n",
    "stabilizationTime = 100 # no-velocity time for pattern to for, ms\n",
    "tind = 0 #time step number for indexing\n",
    "t = 0 # simulation time variable, ms\n",
    "\n",
    "#INITIAL CONDITIONS\n",
    "\n",
    "s = np.random.rand(n*n)#activation of each cell\n"
   ]
  },
  {
   "cell_type": "code",
   "execution_count": 52,
   "metadata": {},
   "outputs": [],
   "source": [
    "#FIRING FIELD PLOT VARIABLES (NOCLUE?!??!)\n",
    "\n",
    "watchCell = int((n*n)/2 - n/2)\n",
    "nspatialbins=60\n",
    "minx = -0.90; maxx=0.90\n",
    "miny=-0.90; maxy=0.90\n",
    "occupancy = np.zeros((nspatialbins,nspatialbins))\n",
    "spikes = np.zeros((nspatialbins,nspatialbins))\n",
    "spikeCoords = [None] # [none]*10 is the usual format"
   ]
  },
  {
   "cell_type": "code",
   "execution_count": 53,
   "metadata": {},
   "outputs": [
    {
     "name": "stdout",
     "output_type": "stream",
     "text": [
      "mic check\n"
     ]
    }
   ],
   "source": [
    "#CREATE 2XN CELLS PREFERRRED DIRECTION VECTOR (RAD)\n",
    "\n",
    "dirs = [[0,(np.pi)/2], [np.pi, (np.pi)*3/2]]\n",
    "dirs = np.tile(dirs, (int(n/2),int(n/2)))\n",
    "dirs = np.reshape(dirs, ((n**2)))\n",
    "dirVects = [np.cos(dirs),np.sin(dirs)]\n",
    "\n",
    "print('mic check')"
   ]
  },
  {
   "cell_type": "code",
   "execution_count": 55,
   "metadata": {},
   "outputs": [
    {
     "data": {
      "text/plain": [
       "(2, 16)"
      ]
     },
     "execution_count": 55,
     "metadata": {},
     "output_type": "execute_result"
    }
   ],
   "source": [
    "#                     UNDER CONSTRUCTION PART\n",
    "\n",
    "#MAKE X A 2XN CELLS VECTOR OF THE 2D POSITIONS IN THE NEURAL SHEET\n",
    "x = np.arange(1,n+1,1) \n",
    "[X,Y]= np.meshgrid(x,x)\n",
    "#plt.plot(X,Y,marker = '.', linestyle='none')\n",
    "X=np.arange(1,n+1)\n",
    "X=np.repeat(X,n)\n",
    "Y=np.arange(1,n+1)\n",
    "Y=[Y]*int(n)\n",
    "Y=np.reshape(Y,(1,int(n)**2))\n",
    "x=[X,Y]\n",
    "cellspacing = 1\n",
    "ell = 2 #offset of center of inhibitory input usually 2*cellspacing\n",
    "\n",
    "offset=(np.array(dirVects) *ell)\n",
    "offset.shape\n",
    "\n",
    "#cellDists = np.zeros((1,int(n)**2)) #make func to store the dists"
   ]
  },
  {
   "cell_type": "code",
   "execution_count": 56,
   "metadata": {},
   "outputs": [
    {
     "name": "stdout",
     "output_type": "stream",
     "text": [
      "(16, 16)\n"
     ]
    }
   ],
   "source": [
    "# <insert weight matrix without loops\n",
    "\n",
    "if useCurrentW==1:\n",
    "    def dist(x):\n",
    "        i,j=x\n",
    "        return (np.sqrt((i[1]-j[1])**2 + (i[0]-j[0])**2))\n",
    "\n",
    "    def Wij(c):\n",
    "        i,j=c\n",
    "        global dists\n",
    "        dists = np.sqrt((i[1]-j[1])**2 + (i[0]-j[0])**2)\n",
    "        return (np.exp((-3*1.1/169)*((i[1]-j[1])**2 + (i[0]-j[0])**2))) - (np.exp((-3/169)*((i[1]-j[1])**2 + (i[0]-j[0])**2)))\n",
    "\n",
    "    #insert offset factor\n",
    "\n",
    "    x=range(1,n+1)\n",
    "    y=range(1,n+1)\n",
    "\n",
    "\n",
    "\n",
    "    P=Pool(3) #Change to no: of cores available\n",
    "    a=np.array(P.map(Wij,product(product(x,y),product(x,y))))\n",
    "    cellDists = np.array(P.map(dist,product(product(x,y),product(x,y))))\n",
    "    weightMatrix=np.reshape(a,(n**2,n**2))\n",
    "    np.save('weightMatrix',weightMatrix)\n",
    "    print(weightMatrix.shape)\n",
    "else:\n",
    "    print('Loading W from memory...')\n",
    "    weightMatrix = np.load('wtMatrix.npy')\n",
    "    weightMatrix = np.delete(weightMatrix,0,0)\n",
    "    "
   ]
  },
  {
   "cell_type": "code",
   "execution_count": 22,
   "metadata": {},
   "outputs": [
    {
     "name": "stdout",
     "output_type": "stream",
     "text": [
      "(16,)\n"
     ]
    }
   ],
   "source": [
    "#ENVELOPE FUNCTION\n",
    "if usePeriodicNetwork:\n",
    "    #Periodic\n",
    "    A=np.array((n**2,1))\n",
    "    A = np.ones((int(n*n)));\n",
    "    \n",
    "else:\n",
    "    #Aperiodic\n",
    "    #plot as : figure; imagesc(reshape(A,sqrt(ncells,sqrt(ncell))))\n",
    "    R= np.sqrt(ncells)/2;# radius of main network in cell-position units\n",
    "    a0= np.sqrt(ncells)/32; # envelope fall off rate\n",
    "    dr = np.sqrt(ncells)/2; # diameter if non-tapered region, in cell-position units\n",
    "    A = np.exp((-a0*((cellDists)-R + dr)/2)**2);\n",
    "    nonTaperedInds = np.where(cellDists< (R-dr));\n",
    "    A[nonTaperedInds] = np.ones(len(nonTaperedInds));\n",
    "    #zero out if >R?\n",
    "    #zeroInds = find(cellDists>R)\n",
    "    #A(zeroInds)= 0;\n",
    "print((A).shape)"
   ]
  },
  {
   "cell_type": "code",
   "execution_count": 85,
   "metadata": {},
   "outputs": [
    {
     "name": "stdout",
     "output_type": "stream",
     "text": [
      "[[ 0.02008032  0.02008032  0.02008032 ...  0.04016064  0.04016064\n",
      "   0.04016064]\n",
      " [-0.06024096 -0.06024096 -0.06024096 ... -0.04016064 -0.04016064\n",
      "  -0.04016064]]\n"
     ]
    }
   ],
   "source": [
    "#PLOT SHEET OF ACTIVITY\n",
    "mat_contents = scipy.io.loadmat('/home/test/Desktop/GG/grid models package v1.007/data/HaftingTraj_centimeters_seconds.mat')\n",
    "pos = mat_contents['pos']\n",
    "print(vels)\n",
    "pos[2][:]= np.array(pos[2][:])*1000\n",
    "mn, mx = min(pos[2]), max(pos[2])\n",
    "posnew = [0,0,0]\n",
    "t = np.arange(mn, mx, dt)\n",
    "posnew = [scipy.interpolate.interp1d(pos[2], pos[0])(t), scipy.interpolate.interp1d(pos[2], pos[1])(t), t]\n",
    "posnew[0:1][:] = np.array(posnew[0:1][:])/100; #cm to m\n",
    "vels = np.array([np.diff(posnew[0][:]), np.diff(posnew[1][:])])/dt; # m/s"
   ]
  },
  {
   "cell_type": "code",
   "execution_count": 80,
   "metadata": {},
   "outputs": [],
   "source": [
    "#TRAJECTORY\n",
    "if useRealTrajectory:\n",
    "    mat_contents = scipy.io.loadmat('/home/test/Desktop/GG/grid models package v1.007/data/HaftingTraj_centimeters_seconds.mat')\n",
    "    pos = mat_contents['pos']\n",
    "    print(pos)\n",
    "    pos[2][:]= np.array(pos[2][:])*1000\n",
    "    mn, mx = min(pos[2]), max(pos[2])\n",
    "    posnew = [0,0,0]\n",
    "    t = np.arange(mn, mx, dt)\n",
    "    posnew = [scipy.interpolate.interp1d(pos[2], pos[0])(t), scipy.interpolate.interp1d(pos[2], pos[1])(t), t]\n",
    "    posnew[0:1][:] = np.array(posnew[0:1][:])/100; #cm to m\n",
    "    vels = np.array([np.diff(posnew[0][:]), diff(posnew[1][:])])/dt; # m/s\n",
    "    # our units are in ms so:\n",
    "    #pos(3,:) = np.array(pos(3,:))*1000\n",
    "    #pos = [[scipy.interp1d(pos(2,:),pos(0,:),0:dt:pos(2,end))];\n",
    "    #       [scipy.interp1d(pos(2,:),pos(1,:),0:dt:pos(2,end))];\n",
    "    #       [scipy.interp1d(pos(2,:),pos(2,:),0:dt:pos(2,end))];\n",
    "    #pos(0:1,:) = pos(0:1,:)/100; % cm to m\n",
    "    #vels = [diff(pos(0,:)); diff(pos(1,:))]/dt; % m/s\n",
    "    "
   ]
  },
  {
   "cell_type": "code",
   "execution_count": 10,
   "metadata": {},
   "outputs": [
    {
     "name": "stdout",
     "output_type": "stream",
     "text": [
      "\n",
      " simulation starting. ctrl+c to opt out \n",
      "\n",
      "(1, 16)\n",
      "only logical errors now! \n"
     ]
    }
   ],
   "source": [
    "#SIMULATION\n",
    "print(\"\\n simulation starting. ctrl+c to opt out \\n\")\n",
    "curDir = np.zeros((int((simdur)/dt),2))\n",
    "speed = np.zeros((int((simdur)/dt),2))\n",
    "while t<simdur:\n",
    "    tind = tind +1\n",
    "    t = dt*tind;\n",
    "    \n",
    "    #Velocity input\n",
    "    if t<stabilizationTime:\n",
    "        v = np.zeros((2,1)); #m/s\n",
    "    else:\n",
    "        if useRealTrajectory==0:\n",
    "            v= constantVelocity\n",
    "        #else:\n",
    "        #    v = vels((:,tind));\n",
    "        \n",
    "         \n",
    "    curDir[tind-1] = math.atan2(v[1,:],v[0,:]); #in rad\n",
    "    speed[tind-1] = np.sqrt(v[0]**2 + v[1]**2); #/dt; m/s\n",
    "    \n",
    "    #FeedForward Input\n",
    "    \n",
    "    B = np.multiply(A,np.transpose((1 + alpha*np.array(np.dot(np.transpose(offset),v)))))\n",
    "   \n",
    "    #Total synaptic driving currents\n",
    "    \n",
    "    sInputs = B + np.transpose((np.dot(weightMatrix,np.transpose(s))))\n",
    "    \n",
    "    #Synaptic drive increases only if input cells are over threshold..>0\n",
    "    mask = (sInputs <= 0)\n",
    "    sInputs[mask] = 0\n",
    "    \n",
    "    s= s + (dt/tau)*(np.array(sInputs - s)) #Improve integration algorithm\n",
    "    \n",
    "    #Save firing field info (avg. s in each spatial bin)\n",
    "    if useRealTrajectory:\n",
    "        if s(watchCell)>spikeThresh:\n",
    "            spikeCoords = [spikeCoords,[pos(0,tind),pos(1,tind)]]\n",
    "            \n",
    "        xindex = round((pos(0,tind)-minx)/(maxx-minx)*nSpatialBins)+1;\n",
    "        yindex = round((pos(1,tind)-miny)/(maxy-miny)*nSpatialBins)+1;\n",
    "        occupancy[yindex,xindex] = occupancy(yindex,xindex) + dt;\n",
    "        spikes[yindex,xindex] = spikes(yindex,xindex) + s(watchCell);\n",
    "        \n",
    "    #if (livePlot>0 and (livePlot==1 or (tind%livePlot==1))):\n",
    "    #    if useRealTrajectory==0:\n",
    "    #        fig, ax = plt.subplots()\n",
    "    #        ax.set_title(\"Activity of sheet of cells on brain's surface\")\n",
    "    #        ax.imshow(np.reshape(s,(n,n)))\n",
    "    #        plt.axis(square)\n",
    "    #if (tind%35 == 0):\n",
    "     #   tmp = s.reshape(n,n)\n",
    "      #  plt.imshow(tmp, cmap='hot', interpolation='nearest')\n",
    "       # plt.show        \n",
    "print(s.shape)   \n",
    "print(\"only logical errors now! \")"
   ]
  },
  {
   "cell_type": "code",
   "execution_count": 74,
   "metadata": {},
   "outputs": [
    {
     "name": "stdout",
     "output_type": "stream",
     "text": [
      "(3, 29416)\n",
      "[[-6.00552000e+01 -5.96535936e+01 -5.96535936e+01 ...  4.88967100e+01\n",
      "   4.96999229e+01  5.05031357e+01]\n",
      " [ 5.93944000e+01  5.81895807e+01  5.81895807e+01 ... -6.08933876e+01\n",
      "  -6.16966005e+01 -6.24998133e+01]\n",
      " [ 0.00000000e+00  2.00000000e+01  4.00000000e+01 ...  5.91000000e+05\n",
      "   5.91020000e+05  5.91040000e+05]]\n"
     ]
    },
    {
     "data": {
      "text/plain": [
       "0.0"
      ]
     },
     "execution_count": 74,
     "metadata": {},
     "output_type": "execute_result"
    }
   ],
   "source": [
    "        "
   ]
  },
  {
   "cell_type": "code",
   "execution_count": 77,
   "metadata": {},
   "outputs": [],
   "source": [
    "mn, mx = min(pos[2]), max(pos[2])\n",
    "posnew = [0,0,0]\n",
    "t = np.arange(mn, mx, dt)\n",
    "posnew = [scipy.interpolate.interp1d(pos[2], pos[0])(t), scipy.interpolate.interp1d(pos[2], pos[1])(t), t]\n",
    "\n"
   ]
  },
  {
   "cell_type": "code",
   "execution_count": 72,
   "metadata": {},
   "outputs": [
    {
     "data": {
      "text/plain": [
       "[<matplotlib.lines.Line2D at 0x7f6e181a90f0>]"
      ]
     },
     "execution_count": 72,
     "metadata": {},
     "output_type": "execute_result"
    },
    {
     "data": {
      "image/png": "[encoded data removed]",
      "text/plain": [
       "<Figure size 432x288 with 1 Axes>"
      ]
     },
     "metadata": {
      "needs_background": "light"
     },
     "output_type": "display_data"
    }
   ],
   "source": [
    "plt.plot(pos[2][::10],pos[0][::10])\n",
    "plt.plot(t[::10],posnew0[::10])"
   ]
  },
  {
   "cell_type": "code",
   "execution_count": null,
   "metadata": {},
   "outputs": [],
   "source": [
    "pos = [[scipy.interpolate.interp1d((pos[2][:],pos[0][:]), 0:dt:pos[2][end])];\n",
    "       [scipy.interpolate.interp1d(pos[2][:],pos[1][:], 0:dt:pos[2][end])];\n",
    "       [scipy.interpolate.interp1d(pos[2][:],pos[2][:], 0:dt:pos[2][end])]]\n",
    "pos[0:1][:] = np.array(pos[0:1][:])/100;1\n",
    "vels = np.array((np.diff(pos[0][:]); diff(pos[1][:])))/dt; # m/s"
   ]
  },
  {
   "cell_type": "code",
   "execution_count": null,
   "metadata": {},
   "outputs": [],
   "source": []
  }
 ],
 "metadata": {
  "kernelspec": {
   "display_name": "Python 3",
   "language": "python",
   "name": "python3"
  },
  "language_info": {
   "codemirror_mode": {
    "name": "ipython",
    "version": 3
   },
   "file_extension": ".py",
   "mimetype": "text/x-python",
   "name": "python",
   "nbconvert_exporter": "python",
   "pygments_lexer": "ipython3",
   "version": "3.7.3"
  }
 },
 "nbformat": 4,
 "nbformat_minor": 2
}
